{
 "cells": [
  {
   "cell_type": "code",
   "execution_count": 7,
   "id": "c529c10b",
   "metadata": {},
   "outputs": [
    {
     "name": "stdout",
     "output_type": "stream",
     "text": [
      "[INFO]: * recording\n",
      "[INFO]: Opened connection\n"
     ]
    },
    {
     "name": "stdout",
     "output_type": "stream",
     "text": [
      "[INFO]: Server Running with backend faster_whisper\n",
      "[INFO]: Websocket connection closed: None: None\n"
     ]
    }
   ],
   "source": [
    "from whisper_live.client import TranscriptionClient\n",
    "client = TranscriptionClient(\n",
    "  \"localhost\",\n",
    "  9090,\n",
    "  lang=\"en\",\n",
    "  translate=False,\n",
    "  model=\"small\",                                      # also support hf_model => `Systran/faster-whisper-small`\n",
    "  use_vad=False,\n",
    "  save_output_recording=True,                         # Only used for microphone input, False by Default\n",
    "  output_recording_filename=\"output_recording.wav\", # Only used for microphone input\n",
    "  max_clients=4,\n",
    "  max_connection_time=600,\n",
    "  mute_audio_playback=False,                          # Only used for file input, False by Default\n",
    ")"
   ]
  },
  {
   "cell_type": "code",
   "execution_count": 9,
   "id": "34f0e258",
   "metadata": {},
   "outputs": [
    {
     "name": "stdout",
     "output_type": "stream",
     "text": [
      "[INFO]: Waiting for server ready ...\n"
     ]
    },
    {
     "ename": "KeyboardInterrupt",
     "evalue": "",
     "output_type": "error",
     "traceback": [
      "\u001b[1;31m---------------------------------------------------------------------------\u001b[0m",
      "\u001b[1;31mKeyboardInterrupt\u001b[0m                         Traceback (most recent call last)",
      "Cell \u001b[1;32mIn[9], line 1\u001b[0m\n\u001b[1;32m----> 1\u001b[0m k\u001b[38;5;241m=\u001b[39m\u001b[43mclient\u001b[49m\u001b[43m(\u001b[49m\u001b[43m)\u001b[49m\n\u001b[0;32m      2\u001b[0m \u001b[38;5;28mprint\u001b[39m(k)\n",
      "File \u001b[1;32md:\\code_developments\\HSBC_CODE_SNIPPENTS\\.venv\\lib\\site-packages\\whisper_live\\client.py:338\u001b[0m, in \u001b[0;36mTranscriptionTeeClient.__call__\u001b[1;34m(self, audio, rtsp_url, hls_url, save_file)\u001b[0m\n\u001b[0;32m    336\u001b[0m \u001b[38;5;28mprint\u001b[39m(\u001b[38;5;124m\"\u001b[39m\u001b[38;5;124m[INFO]: Waiting for server ready ...\u001b[39m\u001b[38;5;124m\"\u001b[39m)\n\u001b[0;32m    337\u001b[0m \u001b[38;5;28;01mfor\u001b[39;00m client \u001b[38;5;129;01min\u001b[39;00m \u001b[38;5;28mself\u001b[39m\u001b[38;5;241m.\u001b[39mclients:\n\u001b[1;32m--> 338\u001b[0m     \u001b[38;5;28;01mwhile\u001b[39;00m \u001b[38;5;129;01mnot\u001b[39;00m client\u001b[38;5;241m.\u001b[39mrecording:\n\u001b[0;32m    339\u001b[0m         \u001b[38;5;28;01mif\u001b[39;00m client\u001b[38;5;241m.\u001b[39mwaiting \u001b[38;5;129;01mor\u001b[39;00m client\u001b[38;5;241m.\u001b[39mserver_error:\n\u001b[0;32m    340\u001b[0m             \u001b[38;5;28mself\u001b[39m\u001b[38;5;241m.\u001b[39mclose_all_clients()\n",
      "\u001b[1;31mKeyboardInterrupt\u001b[0m: "
     ]
    }
   ],
   "source": [
    "k=client()\n",
    "print(k)"
   ]
  },
  {
   "cell_type": "code",
   "execution_count": 11,
   "id": "b8b266cb",
   "metadata": {},
   "outputs": [
    {
     "name": "stdout",
     "output_type": "stream",
     "text": [
      "[INFO]: Waiting for server ready ...\n"
     ]
    },
    {
     "ename": "KeyboardInterrupt",
     "evalue": "",
     "output_type": "error",
     "traceback": [
      "\u001b[1;31m---------------------------------------------------------------------------\u001b[0m",
      "\u001b[1;31mKeyboardInterrupt\u001b[0m                         Traceback (most recent call last)",
      "Cell \u001b[1;32mIn[11], line 1\u001b[0m\n\u001b[1;32m----> 1\u001b[0m \u001b[43mclient\u001b[49m\u001b[43m(\u001b[49m\u001b[38;5;124;43m\"\u001b[39;49m\u001b[38;5;124;43moutput_audio.wav\u001b[39;49m\u001b[38;5;124;43m\"\u001b[39;49m\u001b[43m)\u001b[49m\n",
      "File \u001b[1;32md:\\code_developments\\HSBC_CODE_SNIPPENTS\\.venv\\lib\\site-packages\\whisper_live\\client.py:338\u001b[0m, in \u001b[0;36mTranscriptionTeeClient.__call__\u001b[1;34m(self, audio, rtsp_url, hls_url, save_file)\u001b[0m\n\u001b[0;32m    336\u001b[0m \u001b[38;5;28mprint\u001b[39m(\u001b[38;5;124m\"\u001b[39m\u001b[38;5;124m[INFO]: Waiting for server ready ...\u001b[39m\u001b[38;5;124m\"\u001b[39m)\n\u001b[0;32m    337\u001b[0m \u001b[38;5;28;01mfor\u001b[39;00m client \u001b[38;5;129;01min\u001b[39;00m \u001b[38;5;28mself\u001b[39m\u001b[38;5;241m.\u001b[39mclients:\n\u001b[1;32m--> 338\u001b[0m     \u001b[38;5;28;01mwhile\u001b[39;00m \u001b[38;5;129;01mnot\u001b[39;00m client\u001b[38;5;241m.\u001b[39mrecording:\n\u001b[0;32m    339\u001b[0m         \u001b[38;5;28;01mif\u001b[39;00m client\u001b[38;5;241m.\u001b[39mwaiting \u001b[38;5;129;01mor\u001b[39;00m client\u001b[38;5;241m.\u001b[39mserver_error:\n\u001b[0;32m    340\u001b[0m             \u001b[38;5;28mself\u001b[39m\u001b[38;5;241m.\u001b[39mclose_all_clients()\n",
      "\u001b[1;31mKeyboardInterrupt\u001b[0m: "
     ]
    }
   ],
   "source": [
    "client(\"output_audio.wav\")"
   ]
  },
  {
   "cell_type": "code",
   "execution_count": null,
   "id": "2e4e842e",
   "metadata": {},
   "outputs": [],
   "source": []
  }
 ],
 "metadata": {
  "kernelspec": {
   "display_name": ".venv",
   "language": "python",
   "name": "python3"
  },
  "language_info": {
   "codemirror_mode": {
    "name": "ipython",
    "version": 3
   },
   "file_extension": ".py",
   "mimetype": "text/x-python",
   "name": "python",
   "nbconvert_exporter": "python",
   "pygments_lexer": "ipython3",
   "version": "3.10.0"
  }
 },
 "nbformat": 4,
 "nbformat_minor": 5
}
